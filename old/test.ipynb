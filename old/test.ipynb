{
 "cells": [
  {
   "cell_type": "code",
   "execution_count": 1,
   "metadata": {},
   "outputs": [],
   "source": [
    "# -*- coding: utf-8 -*-\n",
    "\"\"\"\n",
    "Created on Fri Aug 25 12:37:58 2023\n",
    "\n",
    "@author: Michaela Bailová\n",
    "\"\"\"\n",
    "\n",
    "import numpy as np\n",
    "from functools import partial\n",
    "from tools import alokA, discretize, alokJ, alokDJ, qnorm, Lpnorma, DCCh\n",
    "\n",
    "a = np.pi\n",
    "b = np.pi\n",
    "hx = np.pi/32\n",
    "hy = np.pi/32\n",
    "p = 2.5\n",
    "\n",
    "Ps, Ts, s1, s2, s3, s4 = discretize(a, b, hx, hy)\n",
    "S12 = np.union1d(s1, s2)\n",
    "S34 = np.union1d(s3, s4)\n",
    "Ss = np.union1d(S12, S34)\n",
    "\n",
    "x = np.arange(0, a+hx, hx)\n",
    "y = np.arange(0, b+hy, hy)\n",
    "\n",
    "nx = len(x)\n",
    "ny = len(y)\n",
    "nTx = nx-1\n",
    "nTy = ny-1\n",
    "[X, Y] = np.meshgrid(x, y)\n",
    "initMat = np.sin(X)*np.sin(Y)\n",
    "init = np.reshape(initMat, (nx*ny, 1), order='F')\n",
    "init[Ss-1] = 0\n",
    "A = alokA(Ps, Ts, Ss)\n",
    "# lap=alokJ(3,Ps,Ts,Ss,init)\n",
    "# smer=alokDJminmax_exact_descent(3,Ps,Ts,Ss,A,init,init)\n",
    "# func=alokDJminmax_exact_functional(3,Ps,Ts,Ss,init,init)\n",
    "\n",
    "f = partial(alokJ, 3, Ps, Ts, Ss)\n",
    "# t,val = zlatyrez(f,0,1,init,smer,0.00001)\n",
    "\n",
    "f = partial(alokJ, p, Ps, Ts, Ss)\n",
    "df = partial(alokDJ, p, Ps, Ts, Ss, A)\n",
    "# xGM,Jmin,itmin =gradientfunGoldenSection(p,Ps,Ts,Ss,init,f,df,1e-3)\n",
    "xGM, Jmin, itmin = DCCh(p, Ps, Ts, Ss, init, f, df, 1e-3)\n",
    "\n",
    "a = qnorm(p, Ps, Ts, Ss, xGM)**p\n",
    "b = Lpnorma(4, Ps, Ts, Ss, xGM)\n",
    "constant = (a/b)**(1/(4-p))\n",
    "xmin = xGM*constant\n"
   ]
  },
  {
   "cell_type": "code",
   "execution_count": 15,
   "metadata": {},
   "outputs": [
    {
     "data": {
      "text/plain": [
       "5"
      ]
     },
     "execution_count": 15,
     "metadata": {},
     "output_type": "execute_result"
    }
   ],
   "source": [
    "itmin"
   ]
  },
  {
   "cell_type": "code",
   "execution_count": 9,
   "metadata": {},
   "outputs": [
    {
     "data": {
      "text/plain": [
       "array([0., 0.])"
      ]
     },
     "execution_count": 9,
     "metadata": {},
     "output_type": "execute_result"
    }
   ],
   "source": [
    "xmin[1,:]"
   ]
  },
  {
   "cell_type": "code",
   "execution_count": 13,
   "metadata": {},
   "outputs": [
    {
     "data": {
      "text/plain": [
       "<matplotlib.image.AxesImage at 0x7f84c625f5d0>"
      ]
     },
     "execution_count": 13,
     "metadata": {},
     "output_type": "execute_result"
    },
    {
     "data": {
      "image/png": "[encoded data removed]",
      "text/plain": [
       "<Figure size 640x480 with 1 Axes>"
      ]
     },
     "metadata": {},
     "output_type": "display_data"
    }
   ],
   "source": [
    "import matplotlib.pyplot as plt\n",
    "plt.imshow(np.reshape(xmin[:,1], (nx, ny), order='F'), cmap='jet')"
   ]
  }
 ],
 "metadata": {
  "kernelspec": {
   "display_name": "Python 3",
   "language": "python",
   "name": "python3"
  },
  "language_info": {
   "codemirror_mode": {
    "name": "ipython",
    "version": 3
   },
   "file_extension": ".py",
   "mimetype": "text/x-python",
   "name": "python",
   "nbconvert_exporter": "python",
   "pygments_lexer": "ipython3",
   "version": "3.11.5"
  },
  "orig_nbformat": 4
 },
 "nbformat": 4,
 "nbformat_minor": 2
}
