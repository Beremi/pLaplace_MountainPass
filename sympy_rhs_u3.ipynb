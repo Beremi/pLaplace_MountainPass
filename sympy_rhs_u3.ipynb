{
 "cells": [
  {
   "cell_type": "code",
   "execution_count": 31,
   "metadata": {},
   "outputs": [
    {
     "data": {
      "text/plain": [
       "{a: -x1 + x2, b: -x1 + x3, c: -y1 + y2, d: -y1 + y3, e: x1, f: y1}"
      ]
     },
     "execution_count": 31,
     "metadata": {},
     "output_type": "execute_result"
    }
   ],
   "source": [
    "import sympy as sp\n",
    "\n",
    "# Define symbols for the transformation coefficients\n",
    "a, b, c, d, e, f = sp.symbols('a b c d e f')\n",
    "# Define symbols for the triangle coordinates\n",
    "x1, y1, x2, y2, x3, y3 = sp.symbols('x1 y1 x2 y2 x3 y3')\n",
    "#  matrix of linear transformation from reference triangle\n",
    "A_trans = sp.Matrix([[a, b], [c, d]]) \n",
    "# vector of translation from reference triangle\n",
    "b_trans = sp.Matrix([e, f])\n",
    "\n",
    "# Transformation equation\n",
    "transformation = lambda x: A_trans * sp.Matrix(x) + b_trans\n",
    "\n",
    "# Define the reference and transformed points\n",
    "reference_points = [(0, 0), (1, 0), (0, 1)]\n",
    "transformed_points = [(x1, y1), (x2, y2), (x3, y3)]\n",
    "\n",
    "# Generate the system of equations using a loop\n",
    "equations = []\n",
    "for x_ref, x_trans in zip(reference_points, transformed_points):\n",
    "    equations.append(sp.Eq(transformation(x_ref),sp.Matrix(x_trans)))\n",
    "\n",
    "# Solve the system of equations\n",
    "solution = sp.solve(equations, [a, b, c, d, e, f])\n",
    "\n",
    "solution"
   ]
  },
  {
   "cell_type": "code",
   "execution_count": 32,
   "metadata": {},
   "outputs": [
    {
     "data": {
      "text/latex": [
       "$\\displaystyle - a \\left(x \\left(x_{1} - x_{2}\\right) - x_{1} + y \\left(x_{1} - x_{3}\\right)\\right) - b \\left(x \\left(y_{1} - y_{2}\\right) + y \\left(y_{1} - y_{3}\\right) - y_{1}\\right) + c$"
      ],
      "text/plain": [
       "-a*(x*(x1 - x2) - x1 + y*(x1 - x3)) - b*(x*(y1 - y2) + y*(y1 - y3) - y1) + c"
      ]
     },
     "execution_count": 32,
     "metadata": {},
     "output_type": "execute_result"
    }
   ],
   "source": [
    "x, y = sp.symbols('x y')\n",
    "transformed_func = sp.simplify(sp.Matrix((a , b)).dot(transformation((x, y)).subs(solution)) + c)\n",
    "transformed_func"
   ]
  },
  {
   "cell_type": "code",
   "execution_count": 33,
   "metadata": {},
   "outputs": [],
   "source": [
    "# values at the vertices of the reference triangle\n",
    "v1, v2, v3 = sp.symbols('v1 v2 v3')\n",
    "\n",
    "# coordinates in vectors for easy quation writing\n",
    "vector_x_coods = sp.Matrix((x1, x2, x3))\n",
    "vector_y_coods = sp.Matrix((y1, y2, y3))\n",
    "# for each vertice=basis function, its values at vertices\n",
    "vector_of_values = [sp.Matrix((1, 0, 0)), sp.Matrix((0, 1, 0)), sp.Matrix((0, 0, 1))]\n",
    "\n",
    "for basis_fcn in vector_of_values:\n",
    "    eq = sp.Eq(a * vector_x_coods + b * vector_y_coods + c * sp.Matrix((1, 1, 1)), basis_fcn)\n",
    "    sp.solve(eq, (a, b, c))"
   ]
  },
  {
   "cell_type": "code",
   "execution_count": 34,
   "metadata": {},
   "outputs": [
    {
     "ename": "TypeError",
     "evalue": "cannot add <class 'sympy.matrices.dense.MutableDenseMatrix'> and <class 'sympy.core.symbol.Symbol'>",
     "output_type": "error",
     "traceback": [
      "\u001b[0;31m---------------------------------------------------------------------------\u001b[0m",
      "\u001b[0;31mTypeError\u001b[0m                                 Traceback (most recent call last)",
      "Cell \u001b[0;32mIn[34], line 1\u001b[0m\n\u001b[0;32m----> 1\u001b[0m eq1 \u001b[39m=\u001b[39m sp\u001b[39m.\u001b[39mEq(a \u001b[39m*\u001b[39;49m vector_x_coods \u001b[39m+\u001b[39;49m b \u001b[39m*\u001b[39;49m vector_y_coods \u001b[39m+\u001b[39;49m c, vector_of_values[\u001b[39m0\u001b[39m])\n\u001b[1;32m      2\u001b[0m eq1\n",
      "File \u001b[0;32m/usr/lib/python3.11/site-packages/sympy/core/decorators.py:106\u001b[0m, in \u001b[0;36mcall_highest_priority.<locals>.priority_decorator.<locals>.binary_op_wrapper\u001b[0;34m(self, other)\u001b[0m\n\u001b[1;32m    104\u001b[0m         \u001b[39mif\u001b[39;00m f \u001b[39mis\u001b[39;00m \u001b[39mnot\u001b[39;00m \u001b[39mNone\u001b[39;00m:\n\u001b[1;32m    105\u001b[0m             \u001b[39mreturn\u001b[39;00m f(\u001b[39mself\u001b[39m)\n\u001b[0;32m--> 106\u001b[0m \u001b[39mreturn\u001b[39;00m func(\u001b[39mself\u001b[39;49m, other)\n",
      "File \u001b[0;32m/usr/lib/python3.11/site-packages/sympy/matrices/common.py:2656\u001b[0m, in \u001b[0;36mMatrixArithmetic.__add__\u001b[0;34m(self, other)\u001b[0m\n\u001b[1;32m   2653\u001b[0m \u001b[39mif\u001b[39;00m \u001b[39mgetattr\u001b[39m(other, \u001b[39m'\u001b[39m\u001b[39mis_MatrixLike\u001b[39m\u001b[39m'\u001b[39m, \u001b[39mFalse\u001b[39;00m):\n\u001b[1;32m   2654\u001b[0m     \u001b[39mreturn\u001b[39;00m MatrixArithmetic\u001b[39m.\u001b[39m_eval_add(\u001b[39mself\u001b[39m, other)\n\u001b[0;32m-> 2656\u001b[0m \u001b[39mraise\u001b[39;00m \u001b[39mTypeError\u001b[39;00m(\u001b[39m'\u001b[39m\u001b[39mcannot add \u001b[39m\u001b[39m%s\u001b[39;00m\u001b[39m and \u001b[39m\u001b[39m%s\u001b[39;00m\u001b[39m'\u001b[39m \u001b[39m%\u001b[39m (\u001b[39mtype\u001b[39m(\u001b[39mself\u001b[39m), \u001b[39mtype\u001b[39m(other)))\n",
      "\u001b[0;31mTypeError\u001b[0m: cannot add <class 'sympy.matrices.dense.MutableDenseMatrix'> and <class 'sympy.core.symbol.Symbol'>"
     ]
    }
   ],
   "source": [
    "eq1 = sp.Eq(a * vector_x_coods + b * vector_y_coods + c, vector_of_values[0])\n",
    "eq1"
   ]
  },
  {
   "cell_type": "code",
   "execution_count": 10,
   "metadata": {},
   "outputs": [
    {
     "data": {
      "text/plain": [
       "((v1*(y2 - y3) - v2*(y1 - y3) + v3*(y1 - y2))/(x1*y2 - x1*y3 - x2*y1 + x2*y3 + x3*y1 - x3*y2),\n",
       " (-v1*(x2 - x3) + v2*(x1 - x3) - v3*(x1 - x2))/(x1*y2 - x1*y3 - x2*y1 + x2*y3 + x3*y1 - x3*y2),\n",
       " (v1*(x2*y3 - x3*y2) - v2*(x1*y3 - x3*y1) + v3*(x1*y2 - x2*y1))/(x1*y2 - x1*y3 - x2*y1 + x2*y3 + x3*y1 - x3*y2))"
      ]
     },
     "execution_count": 10,
     "metadata": {},
     "output_type": "execute_result"
    }
   ],
   "source": [
    "a1, b1, c1 = sp.symbols('a1 b1 c1')\n",
    "x1, y1, x2, y2, x3, y3 = sp.symbols('x1 y1 x2 y2 x3 y3')\n",
    "# Define the equations based on the given conditions\n",
    "eq1 = sp.Eq(a1 * x1 + b1 * y1 + c1, 1)\n",
    "eq2 = sp.Eq(a1 * x2 + b1 * y2 + c1, 0)\n",
    "eq3 = sp.Eq(a1 * x3 + b1 * y3 + c1, 0)\n",
    "# Solve the system of equations for a, b, and c\n",
    "solution1 = sp.solve((eq1, eq2, eq3), (a1, b1, c1))\n",
    "\n",
    "a2, b2, c2 = sp.symbols('a2 b2 c2')\n",
    "x1, y1, x2, y2, x3, y3 = sp.symbols('x1 y1 x2 y2 x3 y3')\n",
    "# Define the equations based on the given conditions\n",
    "eq1 = sp.Eq(a2 * x1 + b2 * y1 + c2, 0)\n",
    "eq2 = sp.Eq(a2 * x2 + b2 * y2 + c2, 1)\n",
    "eq3 = sp.Eq(a2 * x3 + b2 * y3 + c2, 0)\n",
    "# Solve the system of equations for a, b, and c\n",
    "solution2 = sp.solve((eq1, eq2, eq3), (a2, b2, c2))\n",
    "\n",
    "a3, b3, c3 = sp.symbols('a3 b3 c3')\n",
    "x1, y1, x2, y2, x3, y3 = sp.symbols('x1 y1 x2 y2 x3 y3')\n",
    "# Define the equations based on the given conditions\n",
    "eq1 = sp.Eq(a3 * x1 + b3 * y1 + c3, 0)\n",
    "eq2 = sp.Eq(a3 * x2 + b3 * y2 + c3, 0)\n",
    "eq3 = sp.Eq(a3 * x3 + b3 * y3 + c3, 1)\n",
    "# Solve the system of equations for a, b, and c\n",
    "solution3 = sp.solve((eq1, eq2, eq3), (a3, b3, c3))\n",
    "\n",
    "v1, v2, v3 = sp.symbols('v1 v2 v3')\n",
    "\n",
    "a_all = sp.simplify(v1 * solution1[a1] + v2 * solution2[a2] + v3 * solution3[a3])\n",
    "b_all = sp.simplify(v1 * solution1[b1] + v2 * solution2[b2] + v3 * solution3[b3])\n",
    "c_all = sp.simplify(v1 * solution1[c1] + v2 * solution2[c2] + v3 * solution3[c3])\n",
    "\n",
    "a_all, b_all, c_all"
   ]
  },
  {
   "cell_type": "code",
   "execution_count": 12,
   "metadata": {},
   "outputs": [
    {
     "data": {
      "text/latex": [
       "$\\displaystyle \\left(- v_{1} x - v_{1} y + v_{1} + v_{2} x + v_{3} y\\right)^{4}$"
      ],
      "text/plain": [
       "(-v1*x - v1*y + v1 + v2*x + v3*y)**4"
      ]
     },
     "execution_count": 12,
     "metadata": {},
     "output_type": "execute_result"
    }
   ],
   "source": [
    "transformed_func_2 = sp.simplify(transformed_func.subs({a: a_all, b: b_all, c: c_all}))**4\n",
    "transformed_func_2"
   ]
  },
  {
   "cell_type": "code",
   "execution_count": 14,
   "metadata": {},
   "outputs": [
    {
     "data": {
      "text/latex": [
       "$\\displaystyle \\frac{v_{1}^{4}}{15} + \\frac{v_{1}^{3} v_{2}}{15} + \\frac{v_{1}^{3} v_{3}}{15} + \\frac{v_{1}^{2} v_{2}^{2}}{15} + \\frac{v_{1}^{2} v_{2} v_{3}}{15} + \\frac{v_{1}^{2} v_{3}^{2}}{15} + \\frac{v_{1} v_{2}^{3}}{15} + \\frac{v_{1} v_{2}^{2} v_{3}}{15} + \\frac{v_{1} v_{2} v_{3}^{2}}{15} + \\frac{v_{1} v_{3}^{3}}{15} + \\frac{v_{2}^{4}}{15} + \\frac{v_{2}^{3} v_{3}}{15} + \\frac{v_{2}^{2} v_{3}^{2}}{15} + \\frac{v_{2} v_{3}^{3}}{15} + \\frac{v_{3}^{4}}{15}$"
      ],
      "text/plain": [
       "v1**4/15 + v1**3*v2/15 + v1**3*v3/15 + v1**2*v2**2/15 + v1**2*v2*v3/15 + v1**2*v3**2/15 + v1*v2**3/15 + v1*v2**2*v3/15 + v1*v2*v3**2/15 + v1*v3**3/15 + v2**4/15 + v2**3*v3/15 + v2**2*v3**2/15 + v2*v3**3/15 + v3**4/15"
      ]
     },
     "execution_count": 14,
     "metadata": {},
     "output_type": "execute_result"
    }
   ],
   "source": [
    "x_prime_limits = (x, 0, 1 - y)\n",
    "y_prime_limits = (y, 0, 1)\n",
    "# Integrate the transformed function over the reference triangle without the Jacobian determinant\n",
    "integral_result_without_jacobian = 2 * sp.integrate(transformed_func_2, x_prime_limits, y_prime_limits)\n",
    "integral_result_without_jacobian\n"
   ]
  },
  {
   "cell_type": "code",
   "execution_count": null,
   "metadata": {},
   "outputs": [],
   "source": [
    "fcn = sp.lambdify((a, b, c, x1, y1, x2, y2, x3, y3), integral_result_without_jacobian, \"numpy\")"
   ]
  },
  {
   "cell_type": "code",
   "execution_count": 68,
   "metadata": {},
   "outputs": [
    {
     "name": "stdout",
     "output_type": "stream",
     "text": [
      "def _lambdifygenerated(a, b, c, x1, y1, x2, y2, x3, y3):\n",
      "    return (1/30)*a**4*x1**4 + (1/30)*a**4*x1**3*x2 + (1/30)*a**4*x1**3*x3 + (1/30)*a**4*x1**2*x2**2 + (1/30)*a**4*x1**2*x2*x3 + (1/30)*a**4*x1**2*x3**2 + (1/30)*a**4*x1*x2**3 + (1/30)*a**4*x1*x2**2*x3 + (1/30)*a**4*x1*x2*x3**2 + (1/30)*a**4*x1*x3**3 + (1/30)*a**4*x2**4 + (1/30)*a**4*x2**3*x3 + (1/30)*a**4*x2**2*x3**2 + (1/30)*a**4*x2*x3**3 + (1/30)*a**4*x3**4 + (2/15)*a**3*b*x1**3*y1 + (1/30)*a**3*b*x1**3*y2 + (1/30)*a**3*b*x1**3*y3 + (1/10)*a**3*b*x1**2*x2*y1 + (1/15)*a**3*b*x1**2*x2*y2 + (1/30)*a**3*b*x1**2*x2*y3 + (1/10)*a**3*b*x1**2*x3*y1 + (1/30)*a**3*b*x1**2*x3*y2 + (1/15)*a**3*b*x1**2*x3*y3 + (1/15)*a**3*b*x1*x2**2*y1 + (1/10)*a**3*b*x1*x2**2*y2 + (1/30)*a**3*b*x1*x2**2*y3 + (1/15)*a**3*b*x1*x2*x3*y1 + (1/15)*a**3*b*x1*x2*x3*y2 + (1/15)*a**3*b*x1*x2*x3*y3 + (1/15)*a**3*b*x1*x3**2*y1 + (1/30)*a**3*b*x1*x3**2*y2 + (1/10)*a**3*b*x1*x3**2*y3 + (1/30)*a**3*b*x2**3*y1 + (2/15)*a**3*b*x2**3*y2 + (1/30)*a**3*b*x2**3*y3 + (1/30)*a**3*b*x2**2*x3*y1 + (1/10)*a**3*b*x2**2*x3*y2 + (1/15)*a**3*b*x2**2*x3*y3 + (1/30)*a**3*b*x2*x3**2*y1 + (1/15)*a**3*b*x2*x3**2*y2 + (1/10)*a**3*b*x2*x3**2*y3 + (1/30)*a**3*b*x3**3*y1 + (1/30)*a**3*b*x3**3*y2 + (2/15)*a**3*b*x3**3*y3 + (1/5)*a**3*c*x1**3 + (1/5)*a**3*c*x1**2*x2 + (1/5)*a**3*c*x1**2*x3 + (1/5)*a**3*c*x1*x2**2 + (1/5)*a**3*c*x1*x2*x3 + (1/5)*a**3*c*x1*x3**2 + (1/5)*a**3*c*x2**3 + (1/5)*a**3*c*x2**2*x3 + (1/5)*a**3*c*x2*x3**2 + (1/5)*a**3*c*x3**3 + (1/5)*a**2*b**2*x1**2*y1**2 + (1/10)*a**2*b**2*x1**2*y1*y2 + (1/10)*a**2*b**2*x1**2*y1*y3 + (1/30)*a**2*b**2*x1**2*y2**2 + (1/30)*a**2*b**2*x1**2*y2*y3 + (1/30)*a**2*b**2*x1**2*y3**2 + (1/10)*a**2*b**2*x1*x2*y1**2 + (2/15)*a**2*b**2*x1*x2*y1*y2 + (1/15)*a**2*b**2*x1*x2*y1*y3 + (1/10)*a**2*b**2*x1*x2*y2**2 + (1/15)*a**2*b**2*x1*x2*y2*y3 + (1/30)*a**2*b**2*x1*x2*y3**2 + (1/10)*a**2*b**2*x1*x3*y1**2 + (1/15)*a**2*b**2*x1*x3*y1*y2 + (2/15)*a**2*b**2*x1*x3*y1*y3 + (1/30)*a**2*b**2*x1*x3*y2**2 + (1/15)*a**2*b**2*x1*x3*y2*y3 + (1/10)*a**2*b**2*x1*x3*y3**2 + (1/30)*a**2*b**2*x2**2*y1**2 + (1/10)*a**2*b**2*x2**2*y1*y2 + (1/30)*a**2*b**2*x2**2*y1*y3 + (1/5)*a**2*b**2*x2**2*y2**2 + (1/10)*a**2*b**2*x2**2*y2*y3 + (1/30)*a**2*b**2*x2**2*y3**2 + (1/30)*a**2*b**2*x2*x3*y1**2 + (1/15)*a**2*b**2*x2*x3*y1*y2 + (1/15)*a**2*b**2*x2*x3*y1*y3 + (1/10)*a**2*b**2*x2*x3*y2**2 + (2/15)*a**2*b**2*x2*x3*y2*y3 + (1/10)*a**2*b**2*x2*x3*y3**2 + (1/30)*a**2*b**2*x3**2*y1**2 + (1/30)*a**2*b**2*x3**2*y1*y2 + (1/10)*a**2*b**2*x3**2*y1*y3 + (1/30)*a**2*b**2*x3**2*y2**2 + (1/10)*a**2*b**2*x3**2*y2*y3 + (1/5)*a**2*b**2*x3**2*y3**2 + (3/5)*a**2*b*c*x1**2*y1 + (1/5)*a**2*b*c*x1**2*y2 + (1/5)*a**2*b*c*x1**2*y3 + (2/5)*a**2*b*c*x1*x2*y1 + (2/5)*a**2*b*c*x1*x2*y2 + (1/5)*a**2*b*c*x1*x2*y3 + (2/5)*a**2*b*c*x1*x3*y1 + (1/5)*a**2*b*c*x1*x3*y2 + (2/5)*a**2*b*c*x1*x3*y3 + (1/5)*a**2*b*c*x2**2*y1 + (3/5)*a**2*b*c*x2**2*y2 + (1/5)*a**2*b*c*x2**2*y3 + (1/5)*a**2*b*c*x2*x3*y1 + (2/5)*a**2*b*c*x2*x3*y2 + (2/5)*a**2*b*c*x2*x3*y3 + (1/5)*a**2*b*c*x3**2*y1 + (1/5)*a**2*b*c*x3**2*y2 + (3/5)*a**2*b*c*x3**2*y3 + (1/2)*a**2*c**2*x1**2 + (1/2)*a**2*c**2*x1*x2 + (1/2)*a**2*c**2*x1*x3 + (1/2)*a**2*c**2*x2**2 + (1/2)*a**2*c**2*x2*x3 + (1/2)*a**2*c**2*x3**2 + (2/15)*a*b**3*x1*y1**3 + (1/10)*a*b**3*x1*y1**2*y2 + (1/10)*a*b**3*x1*y1**2*y3 + (1/15)*a*b**3*x1*y1*y2**2 + (1/15)*a*b**3*x1*y1*y2*y3 + (1/15)*a*b**3*x1*y1*y3**2 + (1/30)*a*b**3*x1*y2**3 + (1/30)*a*b**3*x1*y2**2*y3 + (1/30)*a*b**3*x1*y2*y3**2 + (1/30)*a*b**3*x1*y3**3 + (1/30)*a*b**3*x2*y1**3 + (1/15)*a*b**3*x2*y1**2*y2 + (1/30)*a*b**3*x2*y1**2*y3 + (1/10)*a*b**3*x2*y1*y2**2 + (1/15)*a*b**3*x2*y1*y2*y3 + (1/30)*a*b**3*x2*y1*y3**2 + (2/15)*a*b**3*x2*y2**3 + (1/10)*a*b**3*x2*y2**2*y3 + (1/15)*a*b**3*x2*y2*y3**2 + (1/30)*a*b**3*x2*y3**3 + (1/30)*a*b**3*x3*y1**3 + (1/30)*a*b**3*x3*y1**2*y2 + (1/15)*a*b**3*x3*y1**2*y3 + (1/30)*a*b**3*x3*y1*y2**2 + (1/15)*a*b**3*x3*y1*y2*y3 + (1/10)*a*b**3*x3*y1*y3**2 + (1/30)*a*b**3*x3*y2**3 + (1/15)*a*b**3*x3*y2**2*y3 + (1/10)*a*b**3*x3*y2*y3**2 + (2/15)*a*b**3*x3*y3**3 + (3/5)*a*b**2*c*x1*y1**2 + (2/5)*a*b**2*c*x1*y1*y2 + (2/5)*a*b**2*c*x1*y1*y3 + (1/5)*a*b**2*c*x1*y2**2 + (1/5)*a*b**2*c*x1*y2*y3 + (1/5)*a*b**2*c*x1*y3**2 + (1/5)*a*b**2*c*x2*y1**2 + (2/5)*a*b**2*c*x2*y1*y2 + (1/5)*a*b**2*c*x2*y1*y3 + (3/5)*a*b**2*c*x2*y2**2 + (2/5)*a*b**2*c*x2*y2*y3 + (1/5)*a*b**2*c*x2*y3**2 + (1/5)*a*b**2*c*x3*y1**2 + (1/5)*a*b**2*c*x3*y1*y2 + (2/5)*a*b**2*c*x3*y1*y3 + (1/5)*a*b**2*c*x3*y2**2 + (2/5)*a*b**2*c*x3*y2*y3 + (3/5)*a*b**2*c*x3*y3**2 + a*b*c**2*x1*y1 + (1/2)*a*b*c**2*x1*y2 + (1/2)*a*b*c**2*x1*y3 + (1/2)*a*b*c**2*x2*y1 + a*b*c**2*x2*y2 + (1/2)*a*b*c**2*x2*y3 + (1/2)*a*b*c**2*x3*y1 + (1/2)*a*b*c**2*x3*y2 + a*b*c**2*x3*y3 + (2/3)*a*c**3*x1 + (2/3)*a*c**3*x2 + (2/3)*a*c**3*x3 + (1/30)*b**4*y1**4 + (1/30)*b**4*y1**3*y2 + (1/30)*b**4*y1**3*y3 + (1/30)*b**4*y1**2*y2**2 + (1/30)*b**4*y1**2*y2*y3 + (1/30)*b**4*y1**2*y3**2 + (1/30)*b**4*y1*y2**3 + (1/30)*b**4*y1*y2**2*y3 + (1/30)*b**4*y1*y2*y3**2 + (1/30)*b**4*y1*y3**3 + (1/30)*b**4*y2**4 + (1/30)*b**4*y2**3*y3 + (1/30)*b**4*y2**2*y3**2 + (1/30)*b**4*y2*y3**3 + (1/30)*b**4*y3**4 + (1/5)*b**3*c*y1**3 + (1/5)*b**3*c*y1**2*y2 + (1/5)*b**3*c*y1**2*y3 + (1/5)*b**3*c*y1*y2**2 + (1/5)*b**3*c*y1*y2*y3 + (1/5)*b**3*c*y1*y3**2 + (1/5)*b**3*c*y2**3 + (1/5)*b**3*c*y2**2*y3 + (1/5)*b**3*c*y2*y3**2 + (1/5)*b**3*c*y3**3 + (1/2)*b**2*c**2*y1**2 + (1/2)*b**2*c**2*y1*y2 + (1/2)*b**2*c**2*y1*y3 + (1/2)*b**2*c**2*y2**2 + (1/2)*b**2*c**2*y2*y3 + (1/2)*b**2*c**2*y3**2 + (2/3)*b*c**3*y1 + (2/3)*b*c**3*y2 + (2/3)*b*c**3*y3 + (1/2)*c**4\n",
      "\n"
     ]
    }
   ],
   "source": [
    "# Retrieve and display the Python code behind the lambdified function\n",
    "import inspect\n",
    "\n",
    "lambdified_code = inspect.getsource(fcn)\n",
    "print(lambdified_code)\n"
   ]
  },
  {
   "cell_type": "code",
   "execution_count": 66,
   "metadata": {},
   "outputs": [
    {
     "data": {
      "text/latex": [
       "$\\displaystyle \\frac{1}{6}$"
      ],
      "text/plain": [
       "1/6"
      ]
     },
     "execution_count": 66,
     "metadata": {},
     "output_type": "execute_result"
    }
   ],
   "source": [
    "x_prime_limits = (x, 0, 1 - y)\n",
    "y_prime_limits = (y, 0, 1)\n",
    "# Integrate the transformed function over the reference triangle without the Jacobian determinant\n",
    "integral_result_without_jacobian = sp.integrate(x, x_prime_limits, y_prime_limits)\n",
    "\n",
    "integral_result_without_jacobian\n"
   ]
  },
  {
   "cell_type": "code",
   "execution_count": 19,
   "metadata": {},
   "outputs": [
    {
     "data": {
      "text/plain": [
       "<function _lambdifygenerated(x1, y1, x2, y2, x3, y3)>"
      ]
     },
     "execution_count": 19,
     "metadata": {},
     "output_type": "execute_result"
    }
   ],
   "source": [
    "sp.lambdify((x1, y1, x2, y2, x3, y3), solution, \"numpy\")"
   ]
  },
  {
   "cell_type": "code",
   "execution_count": 53,
   "metadata": {},
   "outputs": [],
   "source": [
    "import numpy as np\n",
    "n = 100000000\n",
    "x1_np = np.random.rand(n)\n",
    "y1_np = np.random.rand(n)\n",
    "x2_np = np.random.rand(n)\n",
    "y2_np = np.random.rand(n)\n",
    "x3_np = np.random.rand(n)\n",
    "y3_np = np.random.rand(n)\n",
    "\n",
    "fcn = sp.lambdify((x1, y1, x2, y2, x3, y3), solution[a], \"numpy\")\n"
   ]
  },
  {
   "cell_type": "code",
   "execution_count": 54,
   "metadata": {},
   "outputs": [
    {
     "name": "stdout",
     "output_type": "stream",
     "text": [
      "207 ms ± 1.82 ms per loop (mean ± std. dev. of 7 runs, 1 loop each)\n"
     ]
    }
   ],
   "source": [
    "%%timeit\n",
    "_ = fcn(x1_np, y1_np, x2_np, y2_np, x3_np, y3_np)"
   ]
  }
 ],
 "metadata": {
  "kernelspec": {
   "display_name": "Python 3",
   "language": "python",
   "name": "python3"
  },
  "language_info": {
   "codemirror_mode": {
    "name": "ipython",
    "version": 3
   },
   "file_extension": ".py",
   "mimetype": "text/x-python",
   "name": "python",
   "nbconvert_exporter": "python",
   "pygments_lexer": "ipython3",
   "version": "3.11.5"
  },
  "orig_nbformat": 4
 },
 "nbformat": 4,
 "nbformat_minor": 2
}
